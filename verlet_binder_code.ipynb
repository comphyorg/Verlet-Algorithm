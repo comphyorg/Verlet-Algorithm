{
 "cells": [
  {
   "cell_type": "markdown",
   "metadata": {},
   "source": [
    "## <center> Simple Pendulum : Simulation </center> \n",
    "### <center> VPython simulation </center>"
   ]
  },
  {
   "cell_type": "code",
   "execution_count": 1,
   "metadata": {},
   "outputs": [
    {
     "data": {
      "text/html": [
       "<div id=\"glowscript\" class=\"glowscript\"></div>"
      ],
      "text/plain": [
       "<IPython.core.display.HTML object>"
      ]
     },
     "metadata": {},
     "output_type": "display_data"
    },
    {
     "data": {
      "application/javascript": [
       "if (typeof Jupyter !== \"undefined\") { window.__context = { glowscript_container: $(\"#glowscript\").removeAttr(\"id\")};}else{ element.textContent = ' ';}"
      ],
      "text/plain": [
       "<IPython.core.display.Javascript object>"
      ]
     },
     "metadata": {},
     "output_type": "display_data"
    },
    {
     "data": {
      "text/html": [
       "<div id=\"glowscript\" class=\"glowscript\"></div>"
      ],
      "text/plain": [
       "<IPython.core.display.HTML object>"
      ]
     },
     "metadata": {},
     "output_type": "display_data"
    },
    {
     "data": {
      "application/javascript": [
       "if (typeof Jupyter !== \"undefined\") { window.__context = { glowscript_container: $(\"#glowscript\").removeAttr(\"id\")};}else{ element.textContent = ' ';}"
      ],
      "text/plain": [
       "<IPython.core.display.Javascript object>"
      ]
     },
     "metadata": {},
     "output_type": "display_data"
    },
    {
     "data": {
      "application/javascript": [
       "if (typeof Jupyter !== \"undefined\") {require.undef(\"nbextensions/vpython_libraries/glow.min\");}else{element.textContent = ' ';}"
      ],
      "text/plain": [
       "<IPython.core.display.Javascript object>"
      ]
     },
     "metadata": {},
     "output_type": "display_data"
    },
    {
     "data": {
      "application/javascript": [
       "if (typeof Jupyter !== \"undefined\") {require.undef(\"nbextensions/vpython_libraries/glowcomm\");}else{element.textContent = ' ';}"
      ],
      "text/plain": [
       "<IPython.core.display.Javascript object>"
      ]
     },
     "metadata": {},
     "output_type": "display_data"
    },
    {
     "data": {
      "application/javascript": [
       "if (typeof Jupyter !== \"undefined\") {require.undef(\"nbextensions/vpython_libraries/jquery-ui.custom.min\");}else{element.textContent = ' ';}"
      ],
      "text/plain": [
       "<IPython.core.display.Javascript object>"
      ]
     },
     "metadata": {},
     "output_type": "display_data"
    },
    {
     "data": {
      "application/javascript": [
       "if (typeof Jupyter !== \"undefined\") {require([\"nbextensions/vpython_libraries/glow.min\"], function(){console.log(\"GLOW LOADED\");});}else{element.textContent = ' ';}"
      ],
      "text/plain": [
       "<IPython.core.display.Javascript object>"
      ]
     },
     "metadata": {},
     "output_type": "display_data"
    },
    {
     "data": {
      "application/javascript": [
       "if (typeof Jupyter !== \"undefined\") {require([\"nbextensions/vpython_libraries/glowcomm\"], function(){console.log(\"GLOWCOMM LOADED\");});}else{element.textContent = ' ';}"
      ],
      "text/plain": [
       "<IPython.core.display.Javascript object>"
      ]
     },
     "metadata": {},
     "output_type": "display_data"
    },
    {
     "data": {
      "application/javascript": [
       "if (typeof Jupyter !== \"undefined\") {require([\"nbextensions/vpython_libraries/jquery-ui.custom.min\"], function(){console.log(\"JQUERY LOADED\");});}else{element.textContent = ' ';}"
      ],
      "text/plain": [
       "<IPython.core.display.Javascript object>"
      ]
     },
     "metadata": {},
     "output_type": "display_data"
    },
    {
     "data": {
      "application/vnd.jupyter.widget-view+json": {
       "model_id": "ff67ee91e65d42fab7198b754016f3c5",
       "version_major": 2,
       "version_minor": 0
      },
      "text/plain": [
       "interactive(children=(IntSlider(value=0, description='theta', max=90, min=-90), Checkbox(value=False, descript…"
      ]
     },
     "metadata": {},
     "output_type": "display_data"
    }
   ],
   "source": [
    "from vpython import*  ##you must install this first in your jupyter kernel\n",
    "import numpy as np  \n",
    "from ipywidgets import*\n",
    "\n",
    "\n",
    "RL  = 2 #relaxed_length\n",
    "\n",
    "#making figures\n",
    "canvas(background=color.white,eight=400,width=700)\n",
    "\n",
    "Cylinder = cylinder(pos = vector(0,RL,0),radius = 0.02,\n",
    "                     axis = vector(0,-1,0),length = RL,\n",
    "                     color = color.blue,thickness = 0.01)\n",
    "\n",
    "base = box(pos = vector(0,RL,0),length=1,height=0.01,width=0.1,color = color.black)\n",
    "Particle = sphere(pos = vector(0,0,0),radius = .2,color = color.red)\n",
    "\n",
    "\n",
    "\n",
    "\n",
    "\n",
    "graph(height=400,width=700)\n",
    "f1 = gcurve(color = color.cyan)    \n",
    "\n",
    "def f_main (theta,plot):  \n",
    "\n",
    "    th = theta*np.pi/180\n",
    "    Particle.pos.x = RL*np.sin(th)\n",
    "    Particle.pos.y = RL-RL*np.cos(th)\n",
    "    Cylinder.axis = vector(RL*np.sin(th),-RL*np.cos(th),0)     \n",
    "    \n",
    "    w = 0.0 ##initial angular velocity##\n",
    "    a = -np.sin(th) ## angular acceleration##\n",
    "    t = 0.0  ##initial time##\n",
    "    dt = 0.02\n",
    "    end_time = 15 ##end_time\n",
    "\n",
    "\n",
    "    if(plot==True):\n",
    "        f1.delete()\n",
    "\n",
    "    \n",
    "        \n",
    "        while (t<=end_time):\n",
    "            rate(200)\n",
    "            th += w*dt/2\n",
    "            a = -np.sin(th)\n",
    "            w+= a*dt\n",
    "            th += w*dt/2\n",
    "            \n",
    "            t+=dt\n",
    "            Particle.pos.x = RL*np.sin(th)\n",
    "            Particle.pos.y = RL-RL*np.cos(th)\n",
    "            Cylinder.axis = vector(RL*np.sin(th),-RL*np.cos(th),0)  \n",
    "\n",
    "            f1.plot( t,th)\n",
    "    \n",
    "interactive(f_main,theta = (-90,90,1),plot = False)\n",
    "\n"
   ]
  },
  {
   "cell_type": "markdown",
   "metadata": {},
   "source": [
    "![Alt](https://github.com/comphyorg/Verlet-Algorithm/blob/master/simplependulum.gif?raw=true)"
   ]
  },
  {
   "cell_type": "markdown",
   "metadata": {},
   "source": [
    "\\begin{align}\n",
    "\\tilde E = w'^2 + 2(1-cos\\theta)\n",
    "\\end{align}\n",
    "\n",
    "\n",
    "\n",
    "\n",
    "## <center> Checking Energy Conservation </center>\n",
    "\n"
   ]
  },
  {
   "cell_type": "code",
   "execution_count": 4,
   "metadata": {},
   "outputs": [
    {
     "data": {
      "application/vnd.jupyter.widget-view+json": {
       "model_id": "d1220e63e7c6416588098fa560bd2c5d",
       "version_major": 2,
       "version_minor": 0
      },
      "text/plain": [
       "interactive(children=(IntSlider(value=1, description='Theeta(0) in Degrees', layout=Layout(width='700px'), max…"
      ]
     },
     "metadata": {},
     "output_type": "display_data"
    }
   ],
   "source": [
    "from ipywidgets import*\n",
    "import matplotlib.pyplot as plt \n",
    "from IPython.display import display\n",
    "import numpy as np\n",
    "from matplotlib import style\n",
    "style.use('seaborn-dark-palette')\n",
    "style.use('Solarize_Light2')\n",
    "# This is to fix size of plot \n",
    "\n",
    "\n",
    "def f_main (theta,plot):    \n",
    "    th = theta*np.pi/180\n",
    "    w = 0.0 ##initial angular velocity##\n",
    "    a = -np.sin(th) ## angular acceleration##\n",
    "    t = 0.0  ##initial time##\n",
    "    energy = w*w+ 2*(1-np.cos(th))  \n",
    "    et = 21 ##end_time\n",
    "    N = 10000\n",
    "    dt = (et-t)/N  ###increment in time\n",
    "    W = [w]\n",
    "    Th = [th]    ##create theeta lists\n",
    "    time_list = [t]  ##create time list\n",
    "    e_list = [energy]  ###create energy  list\n",
    "    if(plot==True):\n",
    "        \n",
    "        for i in range(1,N):\n",
    "            th += w*dt/2\n",
    "            a = -np.sin(th)\n",
    "            w+= a*dt\n",
    "            th += w*dt/2\n",
    "            \n",
    "            t+=dt\n",
    "            energy = w*w+ 2*(1-np.cos(th))\n",
    "\n",
    "            Th.append(th)\n",
    "            time_list.append(t)\n",
    "            e_list.append(energy)\n",
    "            W.append(w)\n",
    "\n",
    "\n",
    "\n",
    "        fig,((ax1),(ax2),(ax3)) = plt.subplots(nrows = 3,ncols= 1,figsize = (15,20))\n",
    "        ax1.set_title(r'$\\theta \\ \\ vs \\ \\ \\tau$')\n",
    "        ax2.set_title(r'$\\omega \\ \\ vs \\ \\ \\tau$')\n",
    "        ax3.set_title(r'$E \\ \\ vs \\ \\ \\tau$')\n",
    "\n",
    "        ax1.plot(time_list,Th,color = 'b',label='Theeta')\n",
    "        ax2.plot(time_list,W,'k',label = 'energy')\n",
    "        ax3.set_ylim(0,2.2)\n",
    "        ax3.plot(time_list,e_list,color = 'r',label = 'energy')\n",
    "        plt.legend()\n",
    "\n",
    "        plt.show()\n",
    "\n",
    "\n",
    "\n",
    "w = interactive(f_main,theta = IntSlider(min = -90,max = 90,value = 1,description = \"Theeta(0) in Degrees\",layout = {'width':'700px'}),plot = False)\n",
    "\n",
    "display(w)\n",
    "   \n",
    "    "
   ]
  }
 ],
 "metadata": {
  "kernelspec": {
   "display_name": "Python 3",
   "language": "python",
   "name": "python3"
  },
  "language_info": {
   "codemirror_mode": {
    "name": "ipython",
    "version": 3
   },
   "file_extension": ".py",
   "mimetype": "text/x-python",
   "name": "python",
   "nbconvert_exporter": "python",
   "pygments_lexer": "ipython3",
   "version": "3.8.3"
  },
  "latex_envs": {
   "LaTeX_envs_menu_present": true,
   "autoclose": true,
   "autocomplete": false,
   "bibliofile": "biblio.bib",
   "cite_by": "apalike",
   "current_citInitial": 1,
   "eqLabelWithNumbers": true,
   "eqNumInitial": 1,
   "hotkeys": {
    "equation": "Ctrl-E",
    "itemize": "Ctrl-I"
   },
   "labels_anchors": false,
   "latex_user_defs": false,
   "report_style_numbering": false,
   "user_envs_cfg": false
  }
 },
 "nbformat": 4,
 "nbformat_minor": 4
}
